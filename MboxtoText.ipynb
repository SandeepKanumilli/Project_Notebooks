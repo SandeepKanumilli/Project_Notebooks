{
 "cells": [
  {
   "cell_type": "code",
   "execution_count": 2,
   "id": "07e045ba",
   "metadata": {},
   "outputs": [
    {
     "name": "stdout",
     "output_type": "stream",
     "text": [
      "Requirement already satisfied: mailbox in c:\\users\\ganes\\appdata\\local\\programs\\python\\python311\\lib\\site-packages (0.4)\n",
      "Note: you may need to restart the kernel to use updated packages.\n"
     ]
    },
    {
     "name": "stderr",
     "output_type": "stream",
     "text": [
      "\n",
      "[notice] A new release of pip is available: 23.3 -> 24.0\n",
      "[notice] To update, run: python.exe -m pip install --upgrade pip\n"
     ]
    }
   ],
   "source": [
    "pip install mailbox"
   ]
  },
  {
   "cell_type": "code",
   "execution_count": 22,
   "id": "9f3fb299",
   "metadata": {},
   "outputs": [
    {
     "name": "stdout",
     "output_type": "stream",
     "text": [
      "Collecting chardetNote: you may need to restart the kernel to use updated packages.\n",
      "\n",
      "  Downloading chardet-5.2.0-py3-none-any.whl.metadata (3.4 kB)\n",
      "Downloading chardet-5.2.0-py3-none-any.whl (199 kB)\n",
      "   ---------------------------------------- 199.4/199.4 kB 4.0 MB/s eta 0:00:00\n",
      "Installing collected packages: chardet\n",
      "Successfully installed chardet-5.2.0\n"
     ]
    },
    {
     "name": "stderr",
     "output_type": "stream",
     "text": [
      "\n",
      "[notice] A new release of pip is available: 23.3 -> 24.0\n",
      "[notice] To update, run: python.exe -m pip install --upgrade pip\n"
     ]
    }
   ],
   "source": [
    "pip install chardet"
   ]
  },
  {
   "cell_type": "code",
   "execution_count": 25,
   "id": "7b1da497",
   "metadata": {},
   "outputs": [],
   "source": [
    "import mailbox\n",
    "import os\n",
    "import email\n",
    "import re\n",
    "import chardet\n",
    "from html.parser import HTMLParser"
   ]
  },
  {
   "cell_type": "code",
   "execution_count": 26,
   "id": "2c0df815",
   "metadata": {},
   "outputs": [],
   "source": [
    "mbox_file = r\"C:\\Users\\ganes\\OneDrive\\Desktop\\Datasets\\takeout-20240302T195011Z-001\\Takeout\\Mail\\mails.mbox\""
   ]
  },
  {
   "cell_type": "code",
   "execution_count": 29,
   "id": "539c0505",
   "metadata": {},
   "outputs": [],
   "source": [
    "output_dir = r\"C:\\Users\\ganes\\OneDrive\\Desktop\\Datasets\\gk_Emails01.txt\""
   ]
  },
  {
   "cell_type": "code",
   "execution_count": 28,
   "id": "6d9db7c3",
   "metadata": {},
   "outputs": [],
   "source": [
    "class HTMLEmailParser(HTMLParser):\n",
    "    def __init__(self):\n",
    "        super().__init__()\n",
    "        self.plain_text = \"\"\n",
    "        self.recording = False\n",
    "\n",
    "    def handle_data(self, data):\n",
    "        if self.recording:\n",
    "            self.plain_text += data\n",
    "\n",
    "    def handle_starttag(self, tag, attrs):\n",
    "        if tag == \"body\":\n",
    "            self.recording = True\n",
    "\n",
    "    def handle_endtag(self, tag):\n",
    "        if tag == \"body\":\n",
    "            self.recording = False"
   ]
  },
  {
   "cell_type": "code",
   "execution_count": 30,
   "id": "7d964c89",
   "metadata": {},
   "outputs": [],
   "source": [
    "os.makedirs(output_dir, exist_ok=True)"
   ]
  },
  {
   "cell_type": "code",
   "execution_count": 13,
   "id": "45210487",
   "metadata": {},
   "outputs": [],
   "source": [
    "mbox = mailbox.mbox(mbox_file)"
   ]
  },
  {
   "cell_type": "code",
   "execution_count": 32,
   "id": "042e1dd5",
   "metadata": {},
   "outputs": [],
   "source": [
    "for message in mbox:\n",
    "    # Get the message body\n",
    "    msg = email.message_from_bytes(message.as_bytes())\n",
    "    body = ''\n",
    "    if msg.is_multipart():\n",
    "        for part in msg.walk():\n",
    "            if part.get_content_type() == 'text/html':\n",
    "                payload = part.get_payload(decode=True)\n",
    "                encoding = chardet.detect(payload)['encoding']\n",
    "                try:\n",
    "                    html_body = payload.decode(encoding or 'utf-8', errors='replace')\n",
    "                except (UnicodeDecodeError, LookupError):\n",
    "                    html_body = payload.decode('ascii', errors='replace')\n",
    "                parser = HTMLEmailParser()\n",
    "                parser.feed(html_body)\n",
    "                body += parser.plain_text\n",
    "    else:\n",
    "        if msg.get_content_type() == 'text/html':\n",
    "            payload = msg.get_payload(decode=True)\n",
    "            encoding = chardet.detect(payload)['encoding']\n",
    "            try:\n",
    "                html_body = payload.decode(encoding or 'utf-8', errors='replace')\n",
    "            except (UnicodeDecodeError, LookupError):\n",
    "                html_body = payload.decode('ascii', errors='replace')\n",
    "            parser = HTMLEmailParser()\n",
    "            parser.feed(html_body)\n",
    "            body = parser.plain_text\n",
    "\n",
    "    # Sanitize the Message-ID header to use as a filename\n",
    "    message_id = message['Message-ID']\n",
    "    if message_id:\n",
    "        filename = re.sub(r'[^\\w.-]', '_', message_id) + '.txt'\n",
    "    else:\n",
    "        filename = 'unknown.txt'\n",
    "\n",
    "    # Create a .txt file with the message body\n",
    "    filepath = os.path.join(output_dir, filename)\n",
    "    with open(filepath, 'w', encoding='utf-8') as f:\n",
    "        f.write(body)"
   ]
  },
  {
   "cell_type": "code",
   "execution_count": null,
   "id": "cf875063",
   "metadata": {},
   "outputs": [],
   "source": [
    "#code below this doesn't work "
   ]
  },
  {
   "cell_type": "code",
   "execution_count": null,
   "id": "b19c8883",
   "metadata": {},
   "outputs": [],
   "source": []
  },
  {
   "cell_type": "code",
   "execution_count": null,
   "id": "0525cd40",
   "metadata": {},
   "outputs": [],
   "source": []
  },
  {
   "cell_type": "code",
   "execution_count": null,
   "id": "827b09cd",
   "metadata": {},
   "outputs": [],
   "source": []
  },
  {
   "cell_type": "code",
   "execution_count": null,
   "id": "6f10858f",
   "metadata": {},
   "outputs": [],
   "source": []
  },
  {
   "cell_type": "code",
   "execution_count": null,
   "id": "56b4fa5c",
   "metadata": {},
   "outputs": [],
   "source": []
  },
  {
   "cell_type": "code",
   "execution_count": null,
   "id": "2283849c",
   "metadata": {},
   "outputs": [],
   "source": []
  },
  {
   "cell_type": "code",
   "execution_count": null,
   "id": "0c348c10",
   "metadata": {},
   "outputs": [],
   "source": []
  },
  {
   "cell_type": "code",
   "execution_count": null,
   "id": "67b7e88c",
   "metadata": {},
   "outputs": [],
   "source": []
  },
  {
   "cell_type": "code",
   "execution_count": null,
   "id": "fb5bac53",
   "metadata": {},
   "outputs": [],
   "source": []
  },
  {
   "cell_type": "code",
   "execution_count": 24,
   "id": "11eb0c5a",
   "metadata": {},
   "outputs": [],
   "source": [
    "# Loop through each message in the .mbox file\n",
    "for message in mbox:\n",
    "    # Get the message body\n",
    "    msg = email.message_from_bytes(message.as_bytes())\n",
    "    body = ''\n",
    "    if msg.is_multipart():\n",
    "        for part in msg.walk():\n",
    "            if part.get_content_type() == 'text/plain':\n",
    "                payload = part.get_payload(decode=True)\n",
    "                encoding = chardet.detect(payload)['encoding']\n",
    "                try:\n",
    "                    body += payload.decode(encoding or 'utf-8', errors='replace')\n",
    "                except (UnicodeDecodeError, LookupError):\n",
    "                    body += payload.decode('ascii', errors='replace')\n",
    "    else:\n",
    "        payload = msg.get_payload(decode=True)\n",
    "        encoding = chardet.detect(payload)['encoding']\n",
    "        try:\n",
    "            body = payload.decode(encoding or 'utf-8', errors='replace')\n",
    "        except (UnicodeDecodeError, LookupError):\n",
    "            body = payload.decode('ascii', errors='replace')\n",
    "\n",
    "    # Sanitize the Message-ID header to use as a filename\n",
    "    message_id = message['Message-ID']\n",
    "    if message_id:\n",
    "        filename = re.sub(r'[^\\w.-]', '_', message_id) + '.txt'\n",
    "    else:\n",
    "        filename = 'unknown.txt'\n",
    "\n",
    "    # Create a .txt file with the message body\n",
    "    filepath = os.path.join(output_dir, filename)\n",
    "    with open(filepath, 'w', encoding='utf-8') as f:\n",
    "        f.write(body)"
   ]
  },
  {
   "cell_type": "code",
   "execution_count": null,
   "id": "b7aa1f70",
   "metadata": {},
   "outputs": [],
   "source": []
  },
  {
   "cell_type": "code",
   "execution_count": null,
   "id": "eb4ffb4e",
   "metadata": {},
   "outputs": [],
   "source": []
  },
  {
   "cell_type": "code",
   "execution_count": null,
   "id": "cfb31159",
   "metadata": {},
   "outputs": [],
   "source": []
  }
 ],
 "metadata": {
  "kernelspec": {
   "display_name": "Python 3 (ipykernel)",
   "language": "python",
   "name": "python3"
  },
  "language_info": {
   "codemirror_mode": {
    "name": "ipython",
    "version": 3
   },
   "file_extension": ".py",
   "mimetype": "text/x-python",
   "name": "python",
   "nbconvert_exporter": "python",
   "pygments_lexer": "ipython3",
   "version": "3.11.0"
  }
 },
 "nbformat": 4,
 "nbformat_minor": 5
}
